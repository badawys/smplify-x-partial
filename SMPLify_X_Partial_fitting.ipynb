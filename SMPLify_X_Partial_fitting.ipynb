{
  "nbformat": 4,
  "nbformat_minor": 0,
  "metadata": {
    "colab": {
      "provenance": [],
      "collapsed_sections": [
        "Huh7471o_nXi"
      ],
      "authorship_tag": "ABX9TyNDZHdfXjxtYI6BTEeARkpK",
      "include_colab_link": true
    },
    "kernelspec": {
      "name": "python3",
      "display_name": "Python 3"
    },
    "language_info": {
      "name": "python"
    },
    "accelerator": "GPU",
    "gpuClass": "standard"
  },
  "cells": [
    {
      "cell_type": "markdown",
      "metadata": {
        "id": "view-in-github",
        "colab_type": "text"
      },
      "source": [
        "<a href=\"https://colab.research.google.com/github/xiyichen/smplify-x-partial/blob/master/SMPLify_X_Partial_fitting.ipynb\" target=\"_parent\"><img src=\"https://colab.research.google.com/assets/colab-badge.svg\" alt=\"Open In Colab\"/></a>"
      ]
    },
    {
      "cell_type": "markdown",
      "source": [
        "# Upload the models and data files"
      ],
      "metadata": {
        "id": "8Qn7VsY__xT2"
      }
    },
    {
      "cell_type": "code",
      "source": [
        "# @markdown Proceed to the [official website](https://smpl-x.is.tue.mpg.de/), register and download the zip files with SMPL-X (**models_smplx_v1_1.zip**, ~830MB), VPoser (**vposer_v1_0.zip**, ~2.5MB), and Homogenus pretrained (**homogenus_v1_0.zip**, ~42.3MB, optional) models from the **Downloads** section. \n",
        "\n",
        "# @markdown Run [ExPose](https://github.com/vchoutas/expose), [PIXIE](https://github.com/YadiraF/PIXIE), [PARE](https://github.com/mkocabas/PARE) optionally if you wish to use pose priors and camera initialization.\n",
        "\n",
        "# @markdown Since uploading large zip files to Colab is relatively slow, we expect you to upload these files to Google Drive instead, link gdrive to the Colab file systems and modify variables accordingly.\n",
        "%cd /content/\n",
        "from google.colab import drive\n",
        "drive.mount('/content/gdrive')\n",
        "SMPLX_ZIP_PATH = '/content/gdrive/MyDrive/datasets/models_smplx_v1_1.zip' # @param {type:\"string\"}\n",
        "VPOSER_ZIP_PATH = '/content/gdrive/MyDrive/datasets/vposer_v1_0.zip' # @param {type:\"string\"}\n",
        "GENDER_CLASSIFIER_MODEL_ZIP_PATH = '/content/gdrive/MyDrive/homogenus_v1_0.zip' # @param {type:\"string\"}\n",
        "PIXIE_RESULTS_ZIP_PATH = '/content/gdrive/MyDrive/pixie_results_croppedEHF.zip' # @param {type:\"string\"}\n",
        "EXPOSE_RESULTS_ZIP_PATH = '/content/gdrive/MyDrive/expose_results.zip' # @param {type:\"string\"}\n",
        "IMAGES_ZIP_PATH = '/content/gdrive/MyDrive/cropped_EHF/images.zip' # @param {type:\"string\"}\n",
        "KEYPOINTS_ZIP_PATH = '/content/gdrive/MyDrive/blending_blend_openpose_halpe_body_openpose_face_towards_openpose_sshq_stats_standardization.zip' # @param {type:\"string\"}\n",
        "# KEYPOINTS_ZIP_PATH = '/content/gdrive/MyDrive/blending_blend_body_openpose_face_towards_halpe_sshq_standardization.zip' # @param {type:\"string\"}\n",
        "\n",
        "SMPLX_MODEL_PATH = '/content/smplx_model'\n",
        "!mkdir $SMPLX_MODEL_PATH\n",
        "!unzip -n $SMPLX_ZIP_PATH -d  $SMPLX_MODEL_PATH\n",
        "VPOSER_MODEL_PATH = '/content/vposer'\n",
        "!mkdir $VPOSER_MODEL_PATH\n",
        "!unzip -n $VPOSER_ZIP_PATH -d  $VPOSER_MODEL_PATH\n",
        "GENDER_CLASSIFIER_MODEL_PATH = '/content/homogenus_pretrained'\n",
        "!mkdir $GENDER_CLASSIFIER_MODEL_PATH\n",
        "!unzip -n $GENDER_CLASSIFIER_MODEL_ZIP_PATH -d  $GENDER_CLASSIFIER_MODEL_PATH\n",
        "\n",
        "PIXIE_RESULTS_PATH = '/content/PIXIE_results'\n",
        "!mkdir $PIXIE_RESULTS_PATH\n",
        "!unzip -n $PIXIE_RESULTS_ZIP_PATH -d  $PIXIE_RESULTS_PATH\n",
        "\n",
        "EXPOSE_RESULTS_PATH = '/content/EXPOSE_results'\n",
        "!mkdir $EXPOSE_RESULTS_PATH\n",
        "!unzip -n $EXPOSE_RESULTS_ZIP_PATH -d  $EXPOSE_RESULTS_PATH\n",
        "\n",
        "DATA_PATH = '/content/data/'\n",
        "!mkdir $DATA_PATH\n",
        "!unzip -n $IMAGES_ZIP_PATH -d  $DATA_PATH\n",
        "!unzip -n $KEYPOINTS_ZIP_PATH -d  $DATA_PATH\n"
      ],
      "metadata": {
        "id": "WxmGnyHRjpEy",
        "cellView": "form"
      },
      "execution_count": null,
      "outputs": []
    },
    {
      "cell_type": "markdown",
      "source": [
        "# Create virtual environment and install dependencies"
      ],
      "metadata": {
        "id": "Huh7471o_nXi"
      }
    },
    {
      "cell_type": "code",
      "source": [
        "!sudo apt install python3.7\n",
        "!sudo apt install python3.7-venv\n",
        "!sudo apt install python3.7-dev"
      ],
      "metadata": {
        "id": "MV4cn_Ei4hEz"
      },
      "execution_count": null,
      "outputs": []
    },
    {
      "cell_type": "code",
      "source": [
        "!/usr/bin/python3.7 -m venv ~/venvs/smplify-x\n",
        "!source ~/venvs/smplify-x/bin/activate"
      ],
      "metadata": {
        "id": "OySuvFST4k0W"
      },
      "execution_count": null,
      "outputs": []
    },
    {
      "cell_type": "code",
      "source": [
        "!pip install -U pip\n",
        "!pip install https://download.pytorch.org/whl/cu100/torch-1.1.0-cp37-cp37m-linux_x86_64.whl\n",
        "!pip install https://download.pytorch.org/whl/cu100/torchvision-0.3.0-cp37-cp37m-linux_x86_64.whl\n",
        "!git clone https://github.com/xiyichen/smplx\n",
        "%cd smplx\n",
        "!python setup.py install\n",
        "%cd ..\n",
        "!pip install git+https://github.com/MPI-IS/configer.git\n",
        "!wget https://github.com/nghorbani/human_body_prior/archive/refs/heads/cvpr19.zip\n",
        "!pip install cvpr19.zip\n",
        "!rm -fr torch-mesh-isect\n",
        "!git clone https://github.com/xiyichen/torch-mesh-isect\n",
        "%cd torch-mesh-isect/\n",
        "!python setup.py install\n",
        "%cd /content/\n",
        "!git clone https://github.com/xiyichen/smplify-x-partial\n",
        "%cd /content/smplify-x-partial/\n",
        "!pip install -r requirements.txt\n",
        "%cd smplifyx\n",
        "!pip install tensorflow==1.15.2\n",
        "!git clone https://github.com/xiyichen/homogenus.git\n",
        "%cd homogenus\n",
        "!python setup.py install\n",
        "%cd /content"
      ],
      "metadata": {
        "id": "ZXi1OrvD5VCN"
      },
      "execution_count": null,
      "outputs": []
    },
    {
      "cell_type": "markdown",
      "source": [
        "#Run optimization on the demo samples"
      ],
      "metadata": {
        "id": "mFEwJ9tA_tfG"
      }
    },
    {
      "cell_type": "code",
      "source": [
        "%cd /content/smplify-x-partial\n",
        "!python smplifyx/main.py --config cfg_files/fit_smplx_combined_coco25.yaml \\\n",
        "    --data_folder  demo/ \\\n",
        "    --output_folder /content/smplifyx_results \\\n",
        "    --visualize=True \\\n",
        "    --model_folder /content/smplx_model/models \\\n",
        "    --vposer_ckpt /content/vposer/vposer_v1_0 \\\n",
        "    --use_gender_classifier True \\\n",
        "    --homogeneous_ckpt /content/homogenus_pretrained/homogenus_v1_0/trained_models/tf/ \\\n",
        "    --interpenetration True \\\n",
        "    --part_segm_fn smplifyx/smplx_parts_segm.pkl \\\n",
        "    --save_vertices True \\\n",
        "    --expose_results_directory demo/ExPose_results \\\n",
        "    --pixie_results_directory demo/PIXIE_results"
      ],
      "metadata": {
        "id": "xUdWgNzI4Kah"
      },
      "execution_count": null,
      "outputs": []
    },
    {
      "cell_type": "markdown",
      "source": [
        "#Run optimization on your uploaded samples"
      ],
      "metadata": {
        "id": "DeYXYpnF4KGl"
      }
    },
    {
      "cell_type": "code",
      "source": [
        "%cd /content/smplify-x-partial\n",
        "!python smplifyx/main.py --config cfg_files/fit_smplx_combined_coco25.yaml \\\n",
        "    --data_folder  $DATA_PATH \\\n",
        "    --output_folder /content/smplifyx_results \\\n",
        "    --visualize=True \\\n",
        "    --model_folder /content/smplx_model/models \\\n",
        "    --vposer_ckpt /content/vposer/vposer_v1_0 \\\n",
        "    --use_gender_classifier True \\\n",
        "    --homogeneous_ckpt /content/homogenus_pretrained/homogenus_v1_0/trained_models/tf/ \\\n",
        "    --interpenetration True \\\n",
        "    --part_segm_fn smplifyx/smplx_parts_segm.pkl \\\n",
        "    --save_vertices True \\\n",
        "    --expose_results_directory /content/EXPOSE_results/ \\\n",
        "    --pixie_results_directory /content/PIXIE_results/"
      ],
      "metadata": {
        "id": "sCUaBPKN7KbX"
      },
      "execution_count": null,
      "outputs": []
    }
  ]
}